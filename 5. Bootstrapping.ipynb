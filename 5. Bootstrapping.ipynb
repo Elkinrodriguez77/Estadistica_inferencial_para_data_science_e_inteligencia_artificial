{
 "cells": [
  {
   "cell_type": "markdown",
   "metadata": {},
   "source": [
    "# Bootstrapping con Python"
   ]
  },
  {
   "cell_type": "code",
   "execution_count": 2,
   "metadata": {},
   "outputs": [],
   "source": [
    "import pandas as pd\n",
    "import numpy as np\n",
    "import random"
   ]
  },
  {
   "cell_type": "code",
   "execution_count": 5,
   "metadata": {},
   "outputs": [
    {
     "data": {
      "text/plain": [
       "array([33.81402487, 33.69316843, 35.51700497, ..., 33.81406391,\n",
       "       34.10536112, 35.79147712])"
      ]
     },
     "execution_count": 5,
     "metadata": {},
     "output_type": "execute_result"
    }
   ],
   "source": [
    "data = np.random.normal(loc=34, size=10000)\n",
    "data"
   ]
  },
  {
   "cell_type": "code",
   "execution_count": 6,
   "metadata": {},
   "outputs": [
    {
     "data": {
      "text/plain": [
       "34.00423841760619"
      ]
     },
     "execution_count": 6,
     "metadata": {},
     "output_type": "execute_result"
    }
   ],
   "source": [
    "data.mean()"
   ]
  },
  {
   "cell_type": "markdown",
   "metadata": {},
   "source": [
    "## Iniciamos Bootstrapping para calcular el promedio de edades"
   ]
  },
  {
   "cell_type": "code",
   "execution_count": 7,
   "metadata": {},
   "outputs": [],
   "source": [
    "promedio = []\n",
    "for i in range(40):\n",
    "    muestra = random.sample(data.tolist(),5)\n",
    "    prom = np.mean(muestra)\n",
    "    promedio.append(prom)"
   ]
  },
  {
   "cell_type": "code",
   "execution_count": 8,
   "metadata": {},
   "outputs": [
    {
     "data": {
      "text/plain": [
       "33.938418067898304"
      ]
     },
     "execution_count": 8,
     "metadata": {},
     "output_type": "execute_result"
    }
   ],
   "source": [
    "np.mean(promedio)"
   ]
  },
  {
   "cell_type": "code",
   "execution_count": 9,
   "metadata": {},
   "outputs": [
    {
     "data": {
      "text/plain": [
       "[34.01107695468373,\n",
       " 33.86523286044779,\n",
       " 34.26285126690126,\n",
       " 34.25741607364885,\n",
       " 34.26647007674044,\n",
       " 33.960038889291575,\n",
       " 33.940005850173215,\n",
       " 34.46398283703668,\n",
       " 33.8414655967439,\n",
       " 33.03277267431346,\n",
       " 33.93967168929699,\n",
       " 34.20639932411687,\n",
       " 34.08907647850576,\n",
       " 33.54850300612909,\n",
       " 33.12770797994178,\n",
       " 34.060418956136665,\n",
       " 34.630288880166276,\n",
       " 33.38211046088013,\n",
       " 33.52138633934099,\n",
       " 34.0894114806509,\n",
       " 34.216067265313754,\n",
       " 34.003197667185404,\n",
       " 33.876085483684264,\n",
       " 34.074985889967,\n",
       " 34.139091969619436,\n",
       " 33.13580198688138,\n",
       " 33.43018200531798,\n",
       " 33.32987092513427,\n",
       " 34.80766457852826,\n",
       " 33.70594187065251,\n",
       " 34.521905231317916,\n",
       " 34.27742350580975,\n",
       " 34.17534011717257,\n",
       " 34.241502331970295,\n",
       " 33.78003778577571,\n",
       " 34.20039349062377,\n",
       " 34.37465041578154,\n",
       " 33.83335089526927,\n",
       " 32.9666122666866,\n",
       " 33.950329358094294]"
      ]
     },
     "execution_count": 9,
     "metadata": {},
     "output_type": "execute_result"
    }
   ],
   "source": [
    "promedio"
   ]
  }
 ],
 "metadata": {
  "kernelspec": {
   "display_name": "Python 3",
   "language": "python",
   "name": "python3"
  },
  "language_info": {
   "codemirror_mode": {
    "name": "ipython",
    "version": 3
   },
   "file_extension": ".py",
   "mimetype": "text/x-python",
   "name": "python",
   "nbconvert_exporter": "python",
   "pygments_lexer": "ipython3",
   "version": "3.11.0"
  },
  "orig_nbformat": 4
 },
 "nbformat": 4,
 "nbformat_minor": 2
}
