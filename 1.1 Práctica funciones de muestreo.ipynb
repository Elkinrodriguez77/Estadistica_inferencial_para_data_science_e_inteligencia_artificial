{
 "cells": [
  {
   "cell_type": "markdown",
   "metadata": {},
   "source": [
    "# Cargar dataset"
   ]
  },
  {
   "cell_type": "code",
   "execution_count": 4,
   "metadata": {},
   "outputs": [],
   "source": [
    "import pandas as pd\n",
    "import numpy as np"
   ]
  },
  {
   "cell_type": "code",
   "execution_count": 3,
   "metadata": {},
   "outputs": [],
   "source": [
    "import kaggle\n",
    "\n",
    "# Autenticarte con la API de Kaggle\n",
    "kaggle.api.authenticate()\n",
    "\n",
    "# Descargar el conjunto de datos en la carpeta 'datasets'\n",
    "kaggle.api.dataset_download_files('alessandrolobello/the-ultimate-earthquake-dataset-from-1990-2023', path='./Bases/', unzip=True)"
   ]
  },
  {
   "cell_type": "code",
   "execution_count": 5,
   "metadata": {},
   "outputs": [],
   "source": [
    "df = pd.read_csv('./Bases/Eartquakes-1990-2023.csv')"
   ]
  },
  {
   "cell_type": "code",
   "execution_count": 11,
   "metadata": {},
   "outputs": [
    {
     "data": {
      "text/plain": [
       "Index(['time', 'place', 'status', 'tsunami', 'significance', 'data_type',\n",
       "       'magnitudo', 'state', 'longitude', 'latitude', 'depth', 'date'],\n",
       "      dtype='object')"
      ]
     },
     "execution_count": 11,
     "metadata": {},
     "output_type": "execute_result"
    }
   ],
   "source": [
    "df.columns"
   ]
  },
  {
   "cell_type": "code",
   "execution_count": 12,
   "metadata": {},
   "outputs": [],
   "source": [
    "df.rename(columns={'time':'tiempo_ms', 'place':'lugar', 'status':'estado', 'data_type':'tipo', 'significance':'impacto', 'magnitudo':'magnitud_Richter', 'state':'estado'}, inplace=True)"
   ]
  },
  {
   "cell_type": "code",
   "execution_count": 13,
   "metadata": {},
   "outputs": [
    {
     "data": {
      "text/html": [
       "<div>\n",
       "<style scoped>\n",
       "    .dataframe tbody tr th:only-of-type {\n",
       "        vertical-align: middle;\n",
       "    }\n",
       "\n",
       "    .dataframe tbody tr th {\n",
       "        vertical-align: top;\n",
       "    }\n",
       "\n",
       "    .dataframe thead th {\n",
       "        text-align: right;\n",
       "    }\n",
       "</style>\n",
       "<table border=\"1\" class=\"dataframe\">\n",
       "  <thead>\n",
       "    <tr style=\"text-align: right;\">\n",
       "      <th></th>\n",
       "      <th>tiempo_ms</th>\n",
       "      <th>lugar</th>\n",
       "      <th>estado</th>\n",
       "      <th>tsunami</th>\n",
       "      <th>impacto</th>\n",
       "      <th>tipo</th>\n",
       "      <th>magnitud_Richter</th>\n",
       "      <th>estado</th>\n",
       "      <th>longitude</th>\n",
       "      <th>latitude</th>\n",
       "      <th>depth</th>\n",
       "      <th>date</th>\n",
       "    </tr>\n",
       "  </thead>\n",
       "  <tbody>\n",
       "    <tr>\n",
       "      <th>0</th>\n",
       "      <td>631153353990</td>\n",
       "      <td>12 km NNW of Meadow Lakes, Alaska</td>\n",
       "      <td>reviewed</td>\n",
       "      <td>0</td>\n",
       "      <td>96</td>\n",
       "      <td>earthquake</td>\n",
       "      <td>2.50</td>\n",
       "      <td>Alaska</td>\n",
       "      <td>-149.669200</td>\n",
       "      <td>61.730200</td>\n",
       "      <td>30.100</td>\n",
       "      <td>1990-01-01 00:22:33.990000+00:00</td>\n",
       "    </tr>\n",
       "    <tr>\n",
       "      <th>1</th>\n",
       "      <td>631153491210</td>\n",
       "      <td>14 km S of Volcano, Hawaii</td>\n",
       "      <td>reviewed</td>\n",
       "      <td>0</td>\n",
       "      <td>31</td>\n",
       "      <td>earthquake</td>\n",
       "      <td>1.41</td>\n",
       "      <td>Hawaii</td>\n",
       "      <td>-155.212333</td>\n",
       "      <td>19.317667</td>\n",
       "      <td>6.585</td>\n",
       "      <td>1990-01-01 00:24:51.210000+00:00</td>\n",
       "    </tr>\n",
       "    <tr>\n",
       "      <th>2</th>\n",
       "      <td>631154083450</td>\n",
       "      <td>7 km W of Cobb, California</td>\n",
       "      <td>reviewed</td>\n",
       "      <td>0</td>\n",
       "      <td>19</td>\n",
       "      <td>earthquake</td>\n",
       "      <td>1.11</td>\n",
       "      <td>California</td>\n",
       "      <td>-122.806167</td>\n",
       "      <td>38.821000</td>\n",
       "      <td>3.220</td>\n",
       "      <td>1990-01-01 00:34:43.450000+00:00</td>\n",
       "    </tr>\n",
       "  </tbody>\n",
       "</table>\n",
       "</div>"
      ],
      "text/plain": [
       "      tiempo_ms                              lugar    estado  tsunami  \\\n",
       "0  631153353990  12 km NNW of Meadow Lakes, Alaska  reviewed        0   \n",
       "1  631153491210         14 km S of Volcano, Hawaii  reviewed        0   \n",
       "2  631154083450         7 km W of Cobb, California  reviewed        0   \n",
       "\n",
       "   impacto        tipo  magnitud_Richter       estado   longitude   latitude  \\\n",
       "0       96  earthquake              2.50       Alaska -149.669200  61.730200   \n",
       "1       31  earthquake              1.41       Hawaii -155.212333  19.317667   \n",
       "2       19  earthquake              1.11   California -122.806167  38.821000   \n",
       "\n",
       "    depth                              date  \n",
       "0  30.100  1990-01-01 00:22:33.990000+00:00  \n",
       "1   6.585  1990-01-01 00:24:51.210000+00:00  \n",
       "2   3.220  1990-01-01 00:34:43.450000+00:00  "
      ]
     },
     "execution_count": 13,
     "metadata": {},
     "output_type": "execute_result"
    }
   ],
   "source": [
    "df.head(3)"
   ]
  },
  {
   "cell_type": "markdown",
   "metadata": {},
   "source": [
    "Validar tamaño del dataset original, para contrarrestarlo más adelante con el tamaño de cada una de las muestras:"
   ]
  },
  {
   "cell_type": "code",
   "execution_count": 14,
   "metadata": {},
   "outputs": [
    {
     "data": {
      "text/plain": [
       "(3445751, 12)"
      ]
     },
     "execution_count": 14,
     "metadata": {},
     "output_type": "execute_result"
    }
   ],
   "source": [
    "df.shape"
   ]
  },
  {
   "cell_type": "markdown",
   "metadata": {},
   "source": [
    "# Funciones de muestreo"
   ]
  },
  {
   "cell_type": "markdown",
   "metadata": {},
   "source": [
    "## 1) Muestreo alaeatorio simple"
   ]
  },
  {
   "cell_type": "code",
   "execution_count": 18,
   "metadata": {},
   "outputs": [],
   "source": [
    "muestra_aleatoria_n_datos = df.sample(n=20)"
   ]
  },
  {
   "cell_type": "code",
   "execution_count": 19,
   "metadata": {},
   "outputs": [
    {
     "data": {
      "text/plain": [
       "(20, 12)"
      ]
     },
     "execution_count": 19,
     "metadata": {},
     "output_type": "execute_result"
    }
   ],
   "source": [
    "muestra_aleatoria_n_datos.shape"
   ]
  },
  {
   "cell_type": "code",
   "execution_count": 20,
   "metadata": {},
   "outputs": [
    {
     "data": {
      "text/html": [
       "<div>\n",
       "<style scoped>\n",
       "    .dataframe tbody tr th:only-of-type {\n",
       "        vertical-align: middle;\n",
       "    }\n",
       "\n",
       "    .dataframe tbody tr th {\n",
       "        vertical-align: top;\n",
       "    }\n",
       "\n",
       "    .dataframe thead th {\n",
       "        text-align: right;\n",
       "    }\n",
       "</style>\n",
       "<table border=\"1\" class=\"dataframe\">\n",
       "  <thead>\n",
       "    <tr style=\"text-align: right;\">\n",
       "      <th></th>\n",
       "      <th>tiempo_ms</th>\n",
       "      <th>lugar</th>\n",
       "      <th>estado</th>\n",
       "      <th>tsunami</th>\n",
       "      <th>impacto</th>\n",
       "      <th>tipo</th>\n",
       "      <th>magnitud_Richter</th>\n",
       "      <th>estado</th>\n",
       "      <th>longitude</th>\n",
       "      <th>latitude</th>\n",
       "      <th>depth</th>\n",
       "      <th>date</th>\n",
       "    </tr>\n",
       "  </thead>\n",
       "  <tbody>\n",
       "    <tr>\n",
       "      <th>2082930</th>\n",
       "      <td>1387089975200</td>\n",
       "      <td>3km SSE of The Geysers, CA</td>\n",
       "      <td>reviewed</td>\n",
       "      <td>0</td>\n",
       "      <td>0</td>\n",
       "      <td>earthquake</td>\n",
       "      <td>-0.13</td>\n",
       "      <td>California</td>\n",
       "      <td>-122.740833</td>\n",
       "      <td>38.752167</td>\n",
       "      <td>1.980</td>\n",
       "      <td>2013-12-15 06:46:15.200000+00:00</td>\n",
       "    </tr>\n",
       "    <tr>\n",
       "      <th>888080</th>\n",
       "      <td>1034814298158</td>\n",
       "      <td>9 km WSW of Fox River, Alaska</td>\n",
       "      <td>reviewed</td>\n",
       "      <td>0</td>\n",
       "      <td>22</td>\n",
       "      <td>earthquake</td>\n",
       "      <td>1.20</td>\n",
       "      <td>Alaska</td>\n",
       "      <td>-151.119000</td>\n",
       "      <td>59.827000</td>\n",
       "      <td>44.300</td>\n",
       "      <td>2002-10-17 00:24:58.158000+00:00</td>\n",
       "    </tr>\n",
       "    <tr>\n",
       "      <th>1715772</th>\n",
       "      <td>1280425604490</td>\n",
       "      <td>12km NE of Cabazon, CA</td>\n",
       "      <td>reviewed</td>\n",
       "      <td>0</td>\n",
       "      <td>27</td>\n",
       "      <td>earthquake</td>\n",
       "      <td>1.32</td>\n",
       "      <td>California</td>\n",
       "      <td>-116.716000</td>\n",
       "      <td>34.005167</td>\n",
       "      <td>15.816</td>\n",
       "      <td>2010-07-29 17:46:44.490000+00:00</td>\n",
       "    </tr>\n",
       "  </tbody>\n",
       "</table>\n",
       "</div>"
      ],
      "text/plain": [
       "             tiempo_ms                          lugar    estado  tsunami  \\\n",
       "2082930  1387089975200     3km SSE of The Geysers, CA  reviewed        0   \n",
       "888080   1034814298158  9 km WSW of Fox River, Alaska  reviewed        0   \n",
       "1715772  1280425604490         12km NE of Cabazon, CA  reviewed        0   \n",
       "\n",
       "         impacto        tipo  magnitud_Richter      estado   longitude  \\\n",
       "2082930        0  earthquake             -0.13  California -122.740833   \n",
       "888080        22  earthquake              1.20      Alaska -151.119000   \n",
       "1715772       27  earthquake              1.32  California -116.716000   \n",
       "\n",
       "          latitude   depth                              date  \n",
       "2082930  38.752167   1.980  2013-12-15 06:46:15.200000+00:00  \n",
       "888080   59.827000  44.300  2002-10-17 00:24:58.158000+00:00  \n",
       "1715772  34.005167  15.816  2010-07-29 17:46:44.490000+00:00  "
      ]
     },
     "execution_count": 20,
     "metadata": {},
     "output_type": "execute_result"
    }
   ],
   "source": [
    "muestra_aleatoria_n_datos.head(3)"
   ]
  },
  {
   "cell_type": "markdown",
   "metadata": {},
   "source": [
    "Acceder a fracción aleatoria de una muestra (descrita de forma porcentual):"
   ]
  },
  {
   "cell_type": "code",
   "execution_count": 23,
   "metadata": {},
   "outputs": [],
   "source": [
    "muestra_porcentual = df.sample(frac=0.05)"
   ]
  },
  {
   "cell_type": "code",
   "execution_count": 24,
   "metadata": {},
   "outputs": [
    {
     "data": {
      "text/plain": [
       "(172288, 12)"
      ]
     },
     "execution_count": 24,
     "metadata": {},
     "output_type": "execute_result"
    }
   ],
   "source": [
    "muestra_porcentual.shape"
   ]
  },
  {
   "cell_type": "code",
   "execution_count": 26,
   "metadata": {},
   "outputs": [
    {
     "data": {
      "text/html": [
       "<div>\n",
       "<style scoped>\n",
       "    .dataframe tbody tr th:only-of-type {\n",
       "        vertical-align: middle;\n",
       "    }\n",
       "\n",
       "    .dataframe tbody tr th {\n",
       "        vertical-align: top;\n",
       "    }\n",
       "\n",
       "    .dataframe thead th {\n",
       "        text-align: right;\n",
       "    }\n",
       "</style>\n",
       "<table border=\"1\" class=\"dataframe\">\n",
       "  <thead>\n",
       "    <tr style=\"text-align: right;\">\n",
       "      <th></th>\n",
       "      <th>tiempo_ms</th>\n",
       "      <th>lugar</th>\n",
       "      <th>estado</th>\n",
       "      <th>tsunami</th>\n",
       "      <th>impacto</th>\n",
       "      <th>tipo</th>\n",
       "      <th>magnitud_Richter</th>\n",
       "      <th>estado</th>\n",
       "      <th>longitude</th>\n",
       "      <th>latitude</th>\n",
       "      <th>depth</th>\n",
       "      <th>date</th>\n",
       "    </tr>\n",
       "  </thead>\n",
       "  <tbody>\n",
       "    <tr>\n",
       "      <th>1483983</th>\n",
       "      <td>1209476715390</td>\n",
       "      <td>73 km NW of Ternate, Indonesia</td>\n",
       "      <td>reviewed</td>\n",
       "      <td>0</td>\n",
       "      <td>246</td>\n",
       "      <td>earthquake</td>\n",
       "      <td>4.00</td>\n",
       "      <td>Indonesia</td>\n",
       "      <td>126.848000</td>\n",
       "      <td>1.183000</td>\n",
       "      <td>59.70</td>\n",
       "      <td>2008-04-29 13:45:15.390000+00:00</td>\n",
       "    </tr>\n",
       "    <tr>\n",
       "      <th>2454675</th>\n",
       "      <td>1478365272830</td>\n",
       "      <td>76 km SE of Akutan, Alaska</td>\n",
       "      <td>reviewed</td>\n",
       "      <td>0</td>\n",
       "      <td>168</td>\n",
       "      <td>earthquake</td>\n",
       "      <td>3.30</td>\n",
       "      <td>Alaska</td>\n",
       "      <td>-165.004600</td>\n",
       "      <td>53.615200</td>\n",
       "      <td>60.64</td>\n",
       "      <td>2016-11-05 17:01:12.830000+00:00</td>\n",
       "    </tr>\n",
       "    <tr>\n",
       "      <th>3234622</th>\n",
       "      <td>1644707300630</td>\n",
       "      <td>5km NNW of Pinnacles, CA</td>\n",
       "      <td>reviewed</td>\n",
       "      <td>0</td>\n",
       "      <td>14</td>\n",
       "      <td>earthquake</td>\n",
       "      <td>0.96</td>\n",
       "      <td>California</td>\n",
       "      <td>-121.161167</td>\n",
       "      <td>36.571333</td>\n",
       "      <td>3.99</td>\n",
       "      <td>2022-02-12 23:08:20.630000+00:00</td>\n",
       "    </tr>\n",
       "  </tbody>\n",
       "</table>\n",
       "</div>"
      ],
      "text/plain": [
       "             tiempo_ms                           lugar    estado  tsunami  \\\n",
       "1483983  1209476715390  73 km NW of Ternate, Indonesia  reviewed        0   \n",
       "2454675  1478365272830      76 km SE of Akutan, Alaska  reviewed        0   \n",
       "3234622  1644707300630        5km NNW of Pinnacles, CA  reviewed        0   \n",
       "\n",
       "         impacto        tipo  magnitud_Richter      estado   longitude  \\\n",
       "1483983      246  earthquake              4.00   Indonesia  126.848000   \n",
       "2454675      168  earthquake              3.30      Alaska -165.004600   \n",
       "3234622       14  earthquake              0.96  California -121.161167   \n",
       "\n",
       "          latitude  depth                              date  \n",
       "1483983   1.183000  59.70  2008-04-29 13:45:15.390000+00:00  \n",
       "2454675  53.615200  60.64  2016-11-05 17:01:12.830000+00:00  \n",
       "3234622  36.571333   3.99  2022-02-12 23:08:20.630000+00:00  "
      ]
     },
     "execution_count": 26,
     "metadata": {},
     "output_type": "execute_result"
    }
   ],
   "source": [
    "muestra_porcentual.head(3)"
   ]
  },
  {
   "cell_type": "markdown",
   "metadata": {},
   "source": [
    "## 2) Muestro sistemático"
   ]
  },
  {
   "cell_type": "code",
   "execution_count": 32,
   "metadata": {},
   "outputs": [],
   "source": [
    "# Función para hacer el muestro sistemático:\n",
    "\n",
    "def muestreo_sistematico(df,step):\n",
    "    indices = np.arange(0, len(df), step=step)\n",
    "    muestreo_sistematico = df.iloc[indices]\n",
    "    return muestreo_sistematico"
   ]
  },
  {
   "cell_type": "markdown",
   "metadata": {},
   "source": [
    "Para una explicación detallada de la función anterior, consulte la [explicación paso a paso](./Explicación%20funciones%20y%20más/muestreo_sistematico.md)."
   ]
  },
  {
   "cell_type": "code",
   "execution_count": 33,
   "metadata": {},
   "outputs": [],
   "source": [
    "muestra_sistemática = muestreo_sistematico(df,50)"
   ]
  },
  {
   "cell_type": "code",
   "execution_count": 34,
   "metadata": {},
   "outputs": [
    {
     "data": {
      "text/plain": [
       "(68916, 12)"
      ]
     },
     "execution_count": 34,
     "metadata": {},
     "output_type": "execute_result"
    }
   ],
   "source": [
    "muestra_sistemática.shape"
   ]
  },
  {
   "cell_type": "code",
   "execution_count": 35,
   "metadata": {},
   "outputs": [
    {
     "data": {
      "text/html": [
       "<div>\n",
       "<style scoped>\n",
       "    .dataframe tbody tr th:only-of-type {\n",
       "        vertical-align: middle;\n",
       "    }\n",
       "\n",
       "    .dataframe tbody tr th {\n",
       "        vertical-align: top;\n",
       "    }\n",
       "\n",
       "    .dataframe thead th {\n",
       "        text-align: right;\n",
       "    }\n",
       "</style>\n",
       "<table border=\"1\" class=\"dataframe\">\n",
       "  <thead>\n",
       "    <tr style=\"text-align: right;\">\n",
       "      <th></th>\n",
       "      <th>tiempo_ms</th>\n",
       "      <th>lugar</th>\n",
       "      <th>estado</th>\n",
       "      <th>tsunami</th>\n",
       "      <th>impacto</th>\n",
       "      <th>tipo</th>\n",
       "      <th>magnitud_Richter</th>\n",
       "      <th>estado</th>\n",
       "      <th>longitude</th>\n",
       "      <th>latitude</th>\n",
       "      <th>depth</th>\n",
       "      <th>date</th>\n",
       "    </tr>\n",
       "  </thead>\n",
       "  <tbody>\n",
       "    <tr>\n",
       "      <th>0</th>\n",
       "      <td>631153353990</td>\n",
       "      <td>12 km NNW of Meadow Lakes, Alaska</td>\n",
       "      <td>reviewed</td>\n",
       "      <td>0</td>\n",
       "      <td>96</td>\n",
       "      <td>earthquake</td>\n",
       "      <td>2.50</td>\n",
       "      <td>Alaska</td>\n",
       "      <td>-149.6692</td>\n",
       "      <td>61.730200</td>\n",
       "      <td>30.100</td>\n",
       "      <td>1990-01-01 00:22:33.990000+00:00</td>\n",
       "    </tr>\n",
       "    <tr>\n",
       "      <th>50</th>\n",
       "      <td>631176629110</td>\n",
       "      <td>7 km WSW of Mammoth Lakes, California</td>\n",
       "      <td>reviewed</td>\n",
       "      <td>0</td>\n",
       "      <td>4</td>\n",
       "      <td>earthquake</td>\n",
       "      <td>0.52</td>\n",
       "      <td>California</td>\n",
       "      <td>-119.0515</td>\n",
       "      <td>37.626333</td>\n",
       "      <td>4.161</td>\n",
       "      <td>1990-01-01 06:50:29.110000+00:00</td>\n",
       "    </tr>\n",
       "    <tr>\n",
       "      <th>100</th>\n",
       "      <td>631210705520</td>\n",
       "      <td>37 km NNE of Amboy, Washington</td>\n",
       "      <td>reviewed</td>\n",
       "      <td>0</td>\n",
       "      <td>1</td>\n",
       "      <td>earthquake</td>\n",
       "      <td>0.20</td>\n",
       "      <td>Washington</td>\n",
       "      <td>-122.1915</td>\n",
       "      <td>46.200333</td>\n",
       "      <td>3.327</td>\n",
       "      <td>1990-01-01 16:18:25.520000+00:00</td>\n",
       "    </tr>\n",
       "  </tbody>\n",
       "</table>\n",
       "</div>"
      ],
      "text/plain": [
       "        tiempo_ms                                  lugar    estado  tsunami  \\\n",
       "0    631153353990      12 km NNW of Meadow Lakes, Alaska  reviewed        0   \n",
       "50   631176629110  7 km WSW of Mammoth Lakes, California  reviewed        0   \n",
       "100  631210705520         37 km NNE of Amboy, Washington  reviewed        0   \n",
       "\n",
       "     impacto        tipo  magnitud_Richter       estado  longitude   latitude  \\\n",
       "0         96  earthquake              2.50       Alaska  -149.6692  61.730200   \n",
       "50         4  earthquake              0.52   California  -119.0515  37.626333   \n",
       "100        1  earthquake              0.20   Washington  -122.1915  46.200333   \n",
       "\n",
       "      depth                              date  \n",
       "0    30.100  1990-01-01 00:22:33.990000+00:00  \n",
       "50    4.161  1990-01-01 06:50:29.110000+00:00  \n",
       "100   3.327  1990-01-01 16:18:25.520000+00:00  "
      ]
     },
     "execution_count": 35,
     "metadata": {},
     "output_type": "execute_result"
    }
   ],
   "source": [
    "muestra_sistemática.head(3)"
   ]
  }
 ],
 "metadata": {
  "kernelspec": {
   "display_name": "Python 3",
   "language": "python",
   "name": "python3"
  },
  "language_info": {
   "codemirror_mode": {
    "name": "ipython",
    "version": 3
   },
   "file_extension": ".py",
   "mimetype": "text/x-python",
   "name": "python",
   "nbconvert_exporter": "python",
   "pygments_lexer": "ipython3",
   "version": "3.11.0"
  },
  "orig_nbformat": 4
 },
 "nbformat": 4,
 "nbformat_minor": 2
}
